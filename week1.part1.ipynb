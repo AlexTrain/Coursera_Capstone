{
    "cells": [
        {
            "cell_type": "markdown",
            "metadata": {
                "collapsed": true
            },
            "source": "# PREDICTING THE TYPE OF RESTAURANT AND WHERE IT WILL OPEN IN THE CITY  LIMA, PERU"
        },
        {
            "cell_type": "markdown",
            "metadata": {},
            "source": "## 1. INTRODUCTION\n\n### 1.1 BACKGROUND\n\nThere are many restaurants that offer an unusual menu for a Peruvian, typical dishes from different countries. Therefore, in the sense of the food business, you can be sure that you will not only compete with the typical restaurants of Peru, but also with those of other countries.\n\n### 1.2 PROBLEM\n\nThe opening of a restaurant in the city of Lima, Peru is desired. However, we are not sure where would be the most appropriate considering the target audience and the points with the highest flow of people. In addition it is necessary to determine the type of restaurant (example: Peruvian, Brazilian or Japanese), taking into account the competition within a certain area."
        },
        {
            "cell_type": "code",
            "execution_count": null,
            "metadata": {},
            "outputs": [],
            "source": ""
        }
    ],
    "metadata": {
        "kernelspec": {
            "display_name": "Python 3.6",
            "language": "python",
            "name": "python3"
        },
        "language_info": {
            "codemirror_mode": {
                "name": "ipython",
                "version": 3
            },
            "file_extension": ".py",
            "mimetype": "text/x-python",
            "name": "python",
            "nbconvert_exporter": "python",
            "pygments_lexer": "ipython3",
            "version": "3.6.9"
        }
    },
    "nbformat": 4,
    "nbformat_minor": 1
}