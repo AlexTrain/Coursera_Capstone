{
    "cells": [
        {
            "cell_type": "markdown",
            "metadata": {},
            "source": "# A DESCRIPTION OF THE DATA AND HOW IT WILL BE USED TO SOLVE THE PROBLEM\n\n\nThe list of restaurants that are in the city of Lima, Peru will be obtained through Foursquare, which will provide us with in-depth information on each restaurant such as the category to which each restaurant belongs, the name of the restaurant, latitude, longitude and distance from to the central coordinate that we will assign. Regarding the problem with the place where the restaurant could be opened, it would be solved with the data of longitude and latitude since with that we can see how grouped these restaurants are in order to identify the areas with the largest and smallest number of restaurants. Finally, with the problem that refers to the type of restaurant, it is necessary to use the category data of the current restaurants in that city to determine how much competition we could have for each type of restaurant in a certain area.\n"
        },
        {
            "cell_type": "code",
            "execution_count": 2,
            "metadata": {},
            "outputs": [
                {
                    "name": "stdout",
                    "output_type": "stream",
                    "text": "Folium installed\nLibraries imported.\n"
                }
            ],
            "source": "import requests # library to handle requests\nimport pandas as pd # library for data analsysis\nimport numpy as np # library to handle data in a vectorized manner\nimport random # library for random number generation\n\n#!conda install -c conda-forge geopy --yes \nfrom geopy.geocoders import Nominatim # module to convert an address into latitude and longitude values\n\n# libraries for displaying images\nfrom IPython.display import Image \nfrom IPython.core.display import HTML \n    \n# tranforming json file into a pandas dataframe library\nfrom pandas.io.json import json_normalize\n\n#!conda install -c conda-forge folium=0.5.0 --yes\nimport folium # plotting library\n\nprint('Folium installed')\nprint('Libraries imported.')"
        },
        {
            "cell_type": "markdown",
            "metadata": {},
            "source": "## EXAMPLE OF WHAT THE DATA CONSIST\n\nThe information consists of restaurants in the city of Lima. But for this project we will have to filter the data in order to have a data frame with the characteristics of the restaurants that influence our analysis such as category of restaurant property, restaurant name, altitude and longitude."
        },
        {
            "cell_type": "markdown",
            "metadata": {},
            "source": "# DATA SECTION"
        },
        {
            "cell_type": "code",
            "execution_count": 3,
            "metadata": {},
            "outputs": [
                {
                    "data": {
                        "text/html": "<div>\n<style scoped>\n    .dataframe tbody tr th:only-of-type {\n        vertical-align: middle;\n    }\n\n    .dataframe tbody tr th {\n        vertical-align: top;\n    }\n\n    .dataframe thead th {\n        text-align: right;\n    }\n</style>\n<table border=\"1\" class=\"dataframe\">\n  <thead>\n    <tr style=\"text-align: right;\">\n      <th></th>\n      <th>name</th>\n      <th>categories</th>\n      <th>distance</th>\n      <th>lat</th>\n      <th>lng</th>\n    </tr>\n  </thead>\n  <tbody>\n    <tr>\n      <th>0</th>\n      <td>Restaurante Arequipe\u00f1o La Chura</td>\n      <td>Restaurant</td>\n      <td>2459</td>\n      <td>-12.081603</td>\n      <td>-77.017497</td>\n    </tr>\n    <tr>\n      <th>1</th>\n      <td>Restaurante Huapaya</td>\n      <td>Peruvian Restaurant</td>\n      <td>289</td>\n      <td>-12.068586</td>\n      <td>-76.999892</td>\n    </tr>\n    <tr>\n      <th>2</th>\n      <td>Restaurante \"La Mar\"</td>\n      <td>Peruvian Restaurant</td>\n      <td>2564</td>\n      <td>-12.082201</td>\n      <td>-76.984122</td>\n    </tr>\n    <tr>\n      <th>3</th>\n      <td>Restaurante Don Juan</td>\n      <td>Peruvian Restaurant</td>\n      <td>3858</td>\n      <td>-12.046899</td>\n      <td>-77.030539</td>\n    </tr>\n    <tr>\n      <th>4</th>\n      <td>Restaurante Coreano SAM</td>\n      <td>Korean Restaurant</td>\n      <td>2725</td>\n      <td>-12.090703</td>\n      <td>-77.003380</td>\n    </tr>\n    <tr>\n      <th>5</th>\n      <td>Restaurante Moche</td>\n      <td>Peruvian Restaurant</td>\n      <td>3103</td>\n      <td>-12.093627</td>\n      <td>-76.995453</td>\n    </tr>\n    <tr>\n      <th>6</th>\n      <td>Restaurante Joy's</td>\n      <td>BBQ Joint</td>\n      <td>3216</td>\n      <td>-12.095173</td>\n      <td>-77.002662</td>\n    </tr>\n    <tr>\n      <th>7</th>\n      <td>Restaurante Susy Wong</td>\n      <td>Restaurant</td>\n      <td>4013</td>\n      <td>-12.095526</td>\n      <td>-77.022786</td>\n    </tr>\n    <tr>\n      <th>8</th>\n      <td>Restaurante Los Balcones</td>\n      <td>Latin American Restaurant</td>\n      <td>3926</td>\n      <td>-12.046559</td>\n      <td>-77.031057</td>\n    </tr>\n    <tr>\n      <th>9</th>\n      <td>Restaurante Victor</td>\n      <td>Peruvian Restaurant</td>\n      <td>3222</td>\n      <td>-12.049470</td>\n      <td>-77.025251</td>\n    </tr>\n    <tr>\n      <th>10</th>\n      <td>Restaurante La Sure\u00f1ita</td>\n      <td>Restaurant</td>\n      <td>951</td>\n      <td>-12.074518</td>\n      <td>-76.998732</td>\n    </tr>\n    <tr>\n      <th>11</th>\n      <td>Restaurante Maria Pastor</td>\n      <td>Seafood Restaurant</td>\n      <td>3426</td>\n      <td>-12.097080</td>\n      <td>-77.002146</td>\n    </tr>\n    <tr>\n      <th>12</th>\n      <td>Restaurante Calipso</td>\n      <td>Peruvian Restaurant</td>\n      <td>4031</td>\n      <td>-12.068183</td>\n      <td>-77.038167</td>\n    </tr>\n    <tr>\n      <th>13</th>\n      <td>Restaurante Provence</td>\n      <td>Restaurant</td>\n      <td>4067</td>\n      <td>-12.056694</td>\n      <td>-77.037225</td>\n    </tr>\n    <tr>\n      <th>14</th>\n      <td>Restaurante Quimera</td>\n      <td>Peruvian Restaurant</td>\n      <td>3617</td>\n      <td>-12.097211</td>\n      <td>-77.011467</td>\n    </tr>\n    <tr>\n      <th>15</th>\n      <td>Restaurante Dina</td>\n      <td>Diner</td>\n      <td>967</td>\n      <td>-12.070986</td>\n      <td>-76.993690</td>\n    </tr>\n    <tr>\n      <th>16</th>\n      <td>Restaurante El Norte\u00f1ito</td>\n      <td>Restaurant</td>\n      <td>966</td>\n      <td>-12.074463</td>\n      <td>-76.998122</td>\n    </tr>\n    <tr>\n      <th>17</th>\n      <td>restaurante pepe's</td>\n      <td>Cajun / Creole Restaurant</td>\n      <td>923</td>\n      <td>-12.066040</td>\n      <td>-77.009659</td>\n    </tr>\n    <tr>\n      <th>18</th>\n      <td>Restaurante Del Prado Hotel</td>\n      <td>Restaurant</td>\n      <td>3702</td>\n      <td>-12.094424</td>\n      <td>-77.019363</td>\n    </tr>\n    <tr>\n      <th>19</th>\n      <td>Restaurante La Perla Monsefuana</td>\n      <td>Peruvian Restaurant</td>\n      <td>957</td>\n      <td>-12.069069</td>\n      <td>-77.009514</td>\n    </tr>\n    <tr>\n      <th>20</th>\n      <td>Restaurante \"Paladar\"</td>\n      <td>Latin American Restaurant</td>\n      <td>4332</td>\n      <td>-12.095644</td>\n      <td>-77.027344</td>\n    </tr>\n    <tr>\n      <th>21</th>\n      <td>Restaurante La Fabrica</td>\n      <td>Diner</td>\n      <td>1018</td>\n      <td>-12.067999</td>\n      <td>-76.991984</td>\n    </tr>\n    <tr>\n      <th>22</th>\n      <td>Restaurante Cevicheria Ramix</td>\n      <td>Seafood Restaurant</td>\n      <td>4241</td>\n      <td>-12.047809</td>\n      <td>-77.035242</td>\n    </tr>\n    <tr>\n      <th>23</th>\n      <td>Restaurante Plaza San Mart\u00edn</td>\n      <td>Seafood Restaurant</td>\n      <td>3997</td>\n      <td>-12.052230</td>\n      <td>-77.034960</td>\n    </tr>\n    <tr>\n      <th>24</th>\n      <td>Restaurante Lulys</td>\n      <td>Peruvian Restaurant</td>\n      <td>4459</td>\n      <td>-12.072110</td>\n      <td>-77.041720</td>\n    </tr>\n    <tr>\n      <th>25</th>\n      <td>Restaurante \u201cEl Papeo\u201c</td>\n      <td>Peruvian Restaurant</td>\n      <td>1184</td>\n      <td>-12.076915</td>\n      <td>-77.000225</td>\n    </tr>\n    <tr>\n      <th>26</th>\n      <td>Restaurante Alajito</td>\n      <td>Food</td>\n      <td>4497</td>\n      <td>-12.047064</td>\n      <td>-77.037497</td>\n    </tr>\n    <tr>\n      <th>27</th>\n      <td>Restaurante Don Ignacio</td>\n      <td>Peruvian Restaurant</td>\n      <td>5168</td>\n      <td>-12.073130</td>\n      <td>-76.954214</td>\n    </tr>\n    <tr>\n      <th>28</th>\n      <td>Restaurante  costa verde</td>\n      <td>Restaurant</td>\n      <td>1309</td>\n      <td>-12.069329</td>\n      <td>-77.012812</td>\n    </tr>\n    <tr>\n      <th>29</th>\n      <td>Restaurante Cebicher\u00eda  Sandoa</td>\n      <td>Seafood Restaurant</td>\n      <td>4688</td>\n      <td>-12.089522</td>\n      <td>-77.037120</td>\n    </tr>\n  </tbody>\n</table>\n</div>",
                        "text/plain": "                               name                 categories  distance  \\\n0   Restaurante Arequipe\u00f1o La Chura                 Restaurant      2459   \n1               Restaurante Huapaya        Peruvian Restaurant       289   \n2              Restaurante \"La Mar\"        Peruvian Restaurant      2564   \n3              Restaurante Don Juan        Peruvian Restaurant      3858   \n4           Restaurante Coreano SAM          Korean Restaurant      2725   \n5                 Restaurante Moche        Peruvian Restaurant      3103   \n6                 Restaurante Joy's                  BBQ Joint      3216   \n7             Restaurante Susy Wong                 Restaurant      4013   \n8          Restaurante Los Balcones  Latin American Restaurant      3926   \n9                Restaurante Victor        Peruvian Restaurant      3222   \n10          Restaurante La Sure\u00f1ita                 Restaurant       951   \n11         Restaurante Maria Pastor         Seafood Restaurant      3426   \n12              Restaurante Calipso        Peruvian Restaurant      4031   \n13             Restaurante Provence                 Restaurant      4067   \n14              Restaurante Quimera        Peruvian Restaurant      3617   \n15                 Restaurante Dina                      Diner       967   \n16         Restaurante El Norte\u00f1ito                 Restaurant       966   \n17               restaurante pepe's  Cajun / Creole Restaurant       923   \n18      Restaurante Del Prado Hotel                 Restaurant      3702   \n19  Restaurante La Perla Monsefuana        Peruvian Restaurant       957   \n20            Restaurante \"Paladar\"  Latin American Restaurant      4332   \n21           Restaurante La Fabrica                      Diner      1018   \n22     Restaurante Cevicheria Ramix         Seafood Restaurant      4241   \n23     Restaurante Plaza San Mart\u00edn         Seafood Restaurant      3997   \n24                Restaurante Lulys        Peruvian Restaurant      4459   \n25           Restaurante \u201cEl Papeo\u201c        Peruvian Restaurant      1184   \n26              Restaurante Alajito                       Food      4497   \n27          Restaurante Don Ignacio        Peruvian Restaurant      5168   \n28         Restaurante  costa verde                 Restaurant      1309   \n29   Restaurante Cebicher\u00eda  Sandoa         Seafood Restaurant      4688   \n\n          lat        lng  \n0  -12.081603 -77.017497  \n1  -12.068586 -76.999892  \n2  -12.082201 -76.984122  \n3  -12.046899 -77.030539  \n4  -12.090703 -77.003380  \n5  -12.093627 -76.995453  \n6  -12.095173 -77.002662  \n7  -12.095526 -77.022786  \n8  -12.046559 -77.031057  \n9  -12.049470 -77.025251  \n10 -12.074518 -76.998732  \n11 -12.097080 -77.002146  \n12 -12.068183 -77.038167  \n13 -12.056694 -77.037225  \n14 -12.097211 -77.011467  \n15 -12.070986 -76.993690  \n16 -12.074463 -76.998122  \n17 -12.066040 -77.009659  \n18 -12.094424 -77.019363  \n19 -12.069069 -77.009514  \n20 -12.095644 -77.027344  \n21 -12.067999 -76.991984  \n22 -12.047809 -77.035242  \n23 -12.052230 -77.034960  \n24 -12.072110 -77.041720  \n25 -12.076915 -77.000225  \n26 -12.047064 -77.037497  \n27 -12.073130 -76.954214  \n28 -12.069329 -77.012812  \n29 -12.089522 -77.037120  "
                    },
                    "execution_count": 3,
                    "metadata": {},
                    "output_type": "execute_result"
                }
            ],
            "source": "CLIENT_ID='R3S2SA1CX5BKCN2E31Z41VTO4OLF0HXOMV0TZG1CZALF1FPG'\nCLIENT_SECRET='CEOCFN5TKMFAVLBXEIUSSRQG3EVIBZT1VIZLGZ2SRVQ3S14U'\nVERSION = '20180604'\nsearch_query = 'restaurante'\nurl = 'https://api.foursquare.com/v2/venues/search?client_id={}&client_secret={}&ll=-12.066315,-77.001180&v={}&query={}'.format(CLIENT_ID, CLIENT_SECRET, VERSION, search_query)\nresults = requests.get(url).json()\nvenues = results['response']['venues']\n\ndataframe = json_normalize(venues)\nfiltered_columns = ['name', 'categories'] + [col for col in dataframe.columns if col.startswith('location.')] + ['id']\ndataframe_filtered = dataframe.loc[:, filtered_columns]\n\ndef get_category_type(row):\n    try:\n        categories_list = row['categories']\n    except:\n        categories_list = row['venue.categories']\n        \n    if len(categories_list) == 0:\n        return None\n    else:\n        return categories_list[0]['name']\n\ndataframe_filtered['categories'] = dataframe_filtered.apply(get_category_type, axis=1)\ndataframe_filtered.columns = [column.split('.')[-1] for column in dataframe_filtered.columns]\ndf = dataframe_filtered[['name','categories','distance','lat','lng']]\ndf"
        },
        {
            "cell_type": "code",
            "execution_count": null,
            "metadata": {},
            "outputs": [],
            "source": ""
        }
    ],
    "metadata": {
        "kernelspec": {
            "display_name": "Python 3.6",
            "language": "python",
            "name": "python3"
        },
        "language_info": {
            "codemirror_mode": {
                "name": "ipython",
                "version": 3
            },
            "file_extension": ".py",
            "mimetype": "text/x-python",
            "name": "python",
            "nbconvert_exporter": "python",
            "pygments_lexer": "ipython3",
            "version": "3.6.9"
        }
    },
    "nbformat": 4,
    "nbformat_minor": 1
}